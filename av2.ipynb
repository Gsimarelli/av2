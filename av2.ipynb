{
 "cells": [
  {
   "cell_type": "markdown",
   "metadata": {},
   "source": [
    "### CÓDIGO 1"
   ]
  },
  {
   "cell_type": "markdown",
   "metadata": {},
   "source": [
    "![enunciado](image.png)"
   ]
  },
  {
   "cell_type": "markdown",
   "metadata": {},
   "source": [
    "![alt text](3.png)"
   ]
  },
  {
   "cell_type": "code",
   "execution_count": 10,
   "metadata": {},
   "outputs": [
    {
     "name": "stdout",
     "output_type": "stream",
     "text": [
      "[2, 3, 5, 7, 11, 13, 17, 19, 23, 29, 31, 37, 41, 43, 47, 53, 59, 61, 67, 71, 73, 79, 83, 89, 97, 101, 103, 107, 109, 113, 127, 131, 137, 139, 149, 151, 157, 163, 167, 173, 179, 181, 191, 193, 197, 199, 211, 223, 227, 229, 233, 239, 241, 251, 257, 263, 269, 271, 277, 281, 283, 293, 307, 311, 313, 317, 331, 337, 347, 349, 353, 359, 367, 373, 379, 383, 389, 397, 401, 409, 419, 421, 431, 433, 439, 443, 449, 457, 461, 463, 467, 479, 487, 491, 499, 503, 509, 521, 523, 541, 547, 557, 563, 569, 571, 577, 587, 593, 599, 601, 607, 613, 617, 619, 631, 641, 643, 647, 653, 659, 661, 673, 677, 683, 691, 701, 709, 719, 727, 733, 739, 743, 751, 757, 761, 769, 773, 787, 797, 809, 811, 821, 823, 827, 829, 839, 853, 857, 859, 863, 877, 881, 883, 887, 907, 911, 919, 929, 937, 941, 947, 953, 967, 971, 977, 983, 991, 997, 1009, 1013, 1019, 1021, 1031, 1033, 1039, 1049, 1051, 1061, 1063, 1069, 1087, 1091, 1093, 1097, 1103, 1109, 1117, 1123, 1129, 1151, 1153, 1163, 1171, 1181, 1187, 1193, 1201, 1213, 1217, 1223, 1229, 1231, 1237, 1249, 1259, 1277, 1279, 1283, 1289, 1291, 1297, 1301, 1303, 1307, 1319, 1321, 1327, 1361, 1367, 1373, 1381, 1399, 1409, 1423, 1427, 1429, 1433, 1439, 1447, 1451, 1453, 1459, 1471, 1481, 1483, 1487, 1489, 1493, 1499, 1511, 1523, 1531, 1543, 1549, 1553, 1559, 1567, 1571, 1579, 1583, 1597, 1601, 1607, 1609, 1613, 1619, 1621, 1627, 1637, 1657, 1663, 1667, 1669, 1693, 1697, 1699, 1709, 1721, 1723, 1733, 1741, 1747, 1753, 1759, 1777, 1783, 1787, 1789, 1801, 1811, 1823, 1831, 1847, 1861, 1867, 1871, 1873, 1877, 1879, 1889, 1901, 1907, 1913, 1931, 1933, 1949, 1951, 1973, 1979, 1987]\n"
     ]
    }
   ],
   "source": [
    "# Inicializamos uma lista vazia para armazenar os números primos\n",
    "numeros_primos = []\n",
    "\n",
    "# Usamos um loop para verificar números consecutivos começando de 2\n",
    "# 2 é o menor número primo\n",
    "numero = 2\n",
    "\n",
    "# Continuamos até que tenhamos 300 números primos na lista\n",
    "while len(numeros_primos) < 300:\n",
    "    # Verificamos se o número atual é primo\n",
    "    # Um número é primo se não for divisível por nenhum número entre 2 e ele mesmo (excluindo ele)\n",
    "    eh_primo = True\n",
    "    for divisor in range(2, int(numero**0.5) + 1):  # Checamos divisores até a raiz quadrada do número\n",
    "\n",
    "        if numero % divisor == 0:  # Se o número for divisível por qualquer divisor, não é primo\n",
    "\n",
    "            eh_primo = False\n",
    "    \n",
    "    if eh_primo:  # Se o número for primo, adicionamos à lista\n",
    "        numeros_primos.append(numero)\n",
    "    \n",
    "    numero += 1  # Incrementamos para verificar o próximo número\n",
    "\n",
    "# Escrevemos os 300 primeiros números primos\n",
    "print(numeros_primos)\n",
    "\n",
    "\n",
    "\n"
   ]
  },
  {
   "cell_type": "markdown",
   "metadata": {},
   "source": [
    "### CÓDIGO 2"
   ]
  },
  {
   "cell_type": "markdown",
   "metadata": {},
   "source": [
    "![exercicio]({1AB42232-37FB-4410-AA98-FFF672DEE622}.png)"
   ]
  },
  {
   "cell_type": "markdown",
   "metadata": {},
   "source": [
    "![fluxograma]({48601B16-FB43-47E8-99D3-B30B505864A0}.png)"
   ]
  },
  {
   "cell_type": "code",
   "execution_count": 7,
   "metadata": {},
   "outputs": [
    {
     "name": "stdout",
     "output_type": "stream",
     "text": [
      "1\n",
      "1\n",
      "2\n",
      "5\n",
      "14\n",
      "42\n",
      "132\n",
      "429\n",
      "1430\n",
      "4862\n",
      "16796\n",
      "58786\n",
      "208012\n",
      "742900\n",
      "2674440\n",
      "9694845\n",
      "35357670\n",
      "129644790\n",
      "477638700\n"
     ]
    }
   ],
   "source": [
    "def catalan_numeros(limite):\n",
    "    # Passo 2: Inicializar variáveis\n",
    "    catalan_lista = []  # Lista de resultados\n",
    "    C = 1              # Primeiro termo da sequência\n",
    "    n = 0              # Índice atual\n",
    "\n",
    "    # Passo 3: Repetir enquanto C < limite\n",
    "    while C < limite:\n",
    "        # Passo 4: Armazenar o número atual\n",
    "        catalan_lista.append(C)\n",
    "\n",
    "        # Passo 5: Calcular o próximo termo usando a fórmula de recorrência\n",
    "        C = (4 * n + 2) * C // (n + 2)\n",
    "\n",
    "        # Atualizar o índice\n",
    "        n += 1\n",
    "\n",
    "    # Passo 7: Retornar a lista de números de Catalan\n",
    "    return catalan_lista\n",
    "\n",
    "# Limite: 1 bilhão\n",
    "limite = 1_000_000_000\n",
    "resultado = catalan_numeros(limite)\n",
    "\n",
    "# Imprimir os resultados\n",
    "for num in resultado:\n",
    "    print(num)\n"
   ]
  }
 ],
 "metadata": {
  "kernelspec": {
   "display_name": "base",
   "language": "python",
   "name": "python3"
  },
  "language_info": {
   "codemirror_mode": {
    "name": "ipython",
    "version": 3
   },
   "file_extension": ".py",
   "mimetype": "text/x-python",
   "name": "python",
   "nbconvert_exporter": "python",
   "pygments_lexer": "ipython3",
   "version": "3.12.7"
  }
 },
 "nbformat": 4,
 "nbformat_minor": 2
}
